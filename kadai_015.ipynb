{
  "nbformat": 4,
  "nbformat_minor": 0,
  "metadata": {
    "colab": {
      "provenance": []
    },
    "kernelspec": {
      "name": "python3",
      "display_name": "Python 3"
    },
    "language_info": {
      "name": "python"
    }
  },
  "cells": [
    {
      "cell_type": "code",
      "execution_count": 8,
      "metadata": {
        "colab": {
          "base_uri": "https://localhost:8080/"
        },
        "id": "9Tm8BvzcWpa5",
        "outputId": "6c498838-121d-41fb-9809-715939d6fb38"
      },
      "outputs": [
        {
          "output_type": "stream",
          "name": "stdout",
          "text": [
            "名前は、侍太郎で,年齢は36歳です。\n"
          ]
        }
      ],
      "source": [
        "class Human:\n",
        "  def __init__(self,name,age):\n",
        "      self.name = name\n",
        "      self.age = age\n",
        "\n",
        "  def printinfo(self):\n",
        "      return f\"名前は、{self.name}で,年齢は{self.age}歳です。\"\n",
        "\n",
        "personal = Human(\"侍太郎\",36)\n",
        "\n",
        "print(personal.printinfo())\n"
      ]
    }
  ]
}