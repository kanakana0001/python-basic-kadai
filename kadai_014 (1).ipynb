{
  "nbformat": 4,
  "nbformat_minor": 0,
  "metadata": {
    "colab": {
      "provenance": []
    },
    "kernelspec": {
      "name": "python3",
      "display_name": "Python 3"
    },
    "language_info": {
      "name": "python"
    }
  },
  "cells": [
    {
      "cell_type": "code",
      "execution_count": 11,
      "metadata": {
        "colab": {
          "base_uri": "https://localhost:8080/"
        },
        "id": "kX9shf_X3ik4",
        "outputId": "345f9027-7824-4f7d-fa46-227b289f76d2"
      },
      "outputs": [
        {
          "output_type": "stream",
          "name": "stdout",
          "text": [
            "220.00000000000003\n"
          ]
        }
      ],
      "source": [
        "\n",
        "\n",
        "def total(price1:int,price2:int,tax)->float:\n",
        "  return (price1 + price2)*tax\n",
        "\n",
        "print(total(100,100,1.1))"
      ]
    }
  ]
}