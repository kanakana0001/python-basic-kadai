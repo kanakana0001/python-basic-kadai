{
  "nbformat": 4,
  "nbformat_minor": 0,
  "metadata": {
    "colab": {
      "provenance": []
    },
    "kernelspec": {
      "name": "python3",
      "display_name": "Python 3"
    },
    "language_info": {
      "name": "python"
    }
  },
  "cells": [
    {
      "cell_type": "code",
      "execution_count": 8,
      "metadata": {
        "colab": {
          "base_uri": "https://localhost:8080/"
        },
        "id": "kX9shf_X3ik4",
        "outputId": "6c46ccda-9e74-43c6-8fcc-549fa439b191"
      },
      "outputs": [
        {
          "output_type": "execute_result",
          "data": {
            "text/plain": [
              "220.00000000000003"
            ]
          },
          "metadata": {},
          "execution_count": 8
        }
      ],
      "source": [
        "\n",
        "\n",
        "def total(price1:int,price2:int,tax)->float:\n",
        "  return (price1 + price2)*tax\n",
        "\n",
        "total(100,100,1.1)"
      ]
    }
  ]
}