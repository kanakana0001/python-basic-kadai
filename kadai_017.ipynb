{
  "nbformat": 4,
  "nbformat_minor": 0,
  "metadata": {
    "colab": {
      "provenance": []
    },
    "kernelspec": {
      "name": "python3",
      "display_name": "Python 3"
    },
    "language_info": {
      "name": "python"
    }
  },
  "cells": [
    {
      "cell_type": "code",
      "execution_count": 5,
      "metadata": {
        "colab": {
          "base_uri": "https://localhost:8080/"
        },
        "id": "q2ybQgyDZUDz",
        "outputId": "dab023bb-5ba8-4f84-b2e7-0d7e6d515212"
      },
      "outputs": [
        {
          "output_type": "stream",
          "name": "stdout",
          "text": [
            "侍一郎(30)は大人です\n",
            "侍二郎(20)は大人です\n",
            "侍三郎(19)は未成年です\n",
            "侍四郎(10)は未成年です\n"
          ]
        }
      ],
      "source": [
        "class Human:\n",
        "  def __init__(self,name,age):\n",
        "    self.name = name\n",
        "    self.age = age\n",
        "\n",
        "  def check_adult(self):\n",
        "    if self.age >= 20:\n",
        "      return(\"大人です\")\n",
        "    else:\n",
        "      return(\"未成年です\")\n",
        "\n",
        "humans = [\n",
        "    Human(\"侍一郎\",30),\n",
        "    Human(\"侍二郎\",20),\n",
        "    Human(\"侍三郎\",19),\n",
        "    Human(\"侍四郎\",10)\n",
        "]\n",
        "\n",
        "for human in humans:\n",
        "    is_adult = human.check_adult()\n",
        "    print(f\"{human.name}({human.age})は{is_adult}\")"
      ]
    }
  ]
}