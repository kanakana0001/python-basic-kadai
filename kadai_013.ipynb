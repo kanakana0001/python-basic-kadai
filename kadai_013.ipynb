{
  "nbformat": 4,
  "nbformat_minor": 0,
  "metadata": {
    "colab": {
      "provenance": []
    },
    "kernelspec": {
      "name": "python3",
      "display_name": "Python 3"
    },
    "language_info": {
      "name": "python"
    }
  },
  "cells": [
    {
      "cell_type": "code",
      "execution_count": 2,
      "metadata": {
        "colab": {
          "base_uri": "https://localhost:8080/"
        },
        "id": "DwVZU9E2zLPd",
        "outputId": "304575a3-d331-426c-ef07-9fbfae1fa20c"
      },
      "outputs": [
        {
          "output_type": "stream",
          "name": "stdout",
          "text": [
            "110.00000000000001円\n"
          ]
        }
      ],
      "source": [
        "def calculate(price:int,fix)-> float:\n",
        "  total = price * fix\n",
        "\n",
        "  print(f\"{total}円\")\n",
        "\n",
        "calculate(100,1.10)\n"
      ]
    }
  ]
}