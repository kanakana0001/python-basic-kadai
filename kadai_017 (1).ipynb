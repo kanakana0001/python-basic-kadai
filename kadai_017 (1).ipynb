{
  "nbformat": 4,
  "nbformat_minor": 0,
  "metadata": {
    "colab": {
      "provenance": []
    },
    "kernelspec": {
      "name": "python3",
      "display_name": "Python 3"
    },
    "language_info": {
      "name": "python"
    }
  },
  "cells": [
    {
      "cell_type": "code",
      "execution_count": 6,
      "metadata": {
        "colab": {
          "base_uri": "https://localhost:8080/"
        },
        "id": "q2ybQgyDZUDz",
        "outputId": "75f5756e-d1f1-4a68-b942-f652952519de"
      },
      "outputs": [
        {
          "output_type": "stream",
          "name": "stdout",
          "text": [
            "大人です\n",
            "大人です\n",
            "未成年です\n",
            "未成年です\n"
          ]
        }
      ],
      "source": [
        "class Human:\n",
        "  def __init__(self,name,age):\n",
        "    self.name = name\n",
        "    self.age = age\n",
        "\n",
        "  def check_adult(self):\n",
        "    if self.age >= 20:\n",
        "      print(\"大人です\")\n",
        "    else:\n",
        "      print(\"未成年です\")\n",
        "\n",
        "humans = [\n",
        "    Human(\"侍一郎\",30),\n",
        "    Human(\"侍二郎\",20),\n",
        "    Human(\"侍三郎\",19),\n",
        "    Human(\"侍四郎\",10)\n",
        "]\n",
        "\n",
        "for human in humans:\n",
        "    is_adult = human.check_adult()"
      ]
    }
  ]
}