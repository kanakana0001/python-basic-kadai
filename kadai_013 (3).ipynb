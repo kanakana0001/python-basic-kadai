{
  "nbformat": 4,
  "nbformat_minor": 0,
  "metadata": {
    "colab": {
      "provenance": []
    },
    "kernelspec": {
      "name": "python3",
      "display_name": "Python 3"
    },
    "language_info": {
      "name": "python"
    }
  },
  "cells": [
    {
      "cell_type": "code",
      "execution_count": 8,
      "metadata": {
        "colab": {
          "base_uri": "https://localhost:8080/"
        },
        "id": "DwVZU9E2zLPd",
        "outputId": "010bc731-81c1-431f-ee80-b83d9340e33c"
      },
      "outputs": [
        {
          "output_type": "stream",
          "name": "stdout",
          "text": [
            "220.0\n"
          ]
        }
      ],
      "source": [
        "def calculate(price:int,fix)-> float:\n",
        "  return price + price * fix\n",
        "\n",
        "print(calculate(200,0.1))\n"
      ]
    }
  ]
}