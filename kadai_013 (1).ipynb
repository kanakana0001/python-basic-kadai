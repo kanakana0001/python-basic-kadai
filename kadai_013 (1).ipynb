{
  "nbformat": 4,
  "nbformat_minor": 0,
  "metadata": {
    "colab": {
      "provenance": []
    },
    "kernelspec": {
      "name": "python3",
      "display_name": "Python 3"
    },
    "language_info": {
      "name": "python"
    }
  },
  "cells": [
    {
      "cell_type": "code",
      "execution_count": 3,
      "metadata": {
        "colab": {
          "base_uri": "https://localhost:8080/"
        },
        "id": "DwVZU9E2zLPd",
        "outputId": "93a53937-75a6-4284-bee5-56aa3d221bd7"
      },
      "outputs": [
        {
          "output_type": "execute_result",
          "data": {
            "text/plain": [
              "10.0"
            ]
          },
          "metadata": {},
          "execution_count": 3
        }
      ],
      "source": [
        "def calculate(price:int,fix)-> float:\n",
        "  return price * fix\n",
        "\n",
        "  print(f\"{total}円\")\n",
        "\n",
        "calculate(100,0.1)\n"
      ]
    }
  ]
}